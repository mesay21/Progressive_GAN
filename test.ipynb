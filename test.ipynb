{
 "cells": [
  {
   "cell_type": "code",
   "execution_count": 1,
   "metadata": {},
   "outputs": [],
   "source": [
    "from pgan import PGAN"
   ]
  },
  {
   "cell_type": "code",
   "execution_count": 2,
   "metadata": {},
   "outputs": [],
   "source": [
    "d_path = '../../../Datasets/cifar-10-python/cifar-10-batches-py/data*'\n",
    "save_path = '../../results/20190415/Experiment_002/'"
   ]
  },
  {
   "cell_type": "code",
   "execution_count": null,
   "metadata": {},
   "outputs": [
    {
     "name": "stdout",
     "output_type": "stream",
     "text": [
      "Network initialized\n",
      "Started training 1 layers\n",
      "generator output (?, 4, 4, 3)\n"
     ]
    },
    {
     "name": "stderr",
     "output_type": "stream",
     "text": [
      "100%|██████████████████████████████████████████████████████████████████████████████| 100/100 [1:03:38<00:00, 38.19s/it]\n"
     ]
    },
    {
     "name": "stdout",
     "output_type": "stream",
     "text": [
      "generator/g_layer_0_fc/weights:0\n",
      "generator/g_layer_0_fc/biases:0\n",
      "generator/g_layer_0_conv/weights:0\n",
      "generator/g_layer_0_conv/biases:0\n",
      "discriminator/d_layer_0_conv_1/weights:0\n",
      "discriminator/d_layer_0_conv_1/biases:0\n",
      "discriminator/d_layer_0_conv_2/weights:0\n",
      "discriminator/d_layer_0_conv_2/biases:0\n",
      "discriminator/d_layer_0_fc/weights:0\n",
      "discriminator/d_layer_0_fc/biases:0\n",
      "Finished training 1 layers\n",
      "Started training 2 layers\n",
      "generator output (?, 8, 8, 3)\n"
     ]
    },
    {
     "name": "stderr",
     "output_type": "stream",
     "text": [
      " 99%|██████████████████████████████████████████████████████████████████████████████▏| 99/100 [1:37:16<00:58, 58.95s/it]"
     ]
    }
   ],
   "source": [
    "gan = PGAN(d_path, save_path)\n",
    "gan.train(4, [128, 64, 32, 16])"
   ]
  },
  {
   "cell_type": "code",
   "execution_count": null,
   "metadata": {},
   "outputs": [],
   "source": []
  },
  {
   "cell_type": "code",
   "execution_count": null,
   "metadata": {},
   "outputs": [],
   "source": [
    "def load_data(path, im_size):\n",
    "    f_names = glob.glob(path)\n",
    "    data, labels = [], []\n",
    "    for l in f_names:\n",
    "        with open(l, 'rb') as f:\n",
    "            x = pickle.load(f, encoding='bytes')\n",
    "        data.append(x[b'data'].reshape((-1, *im_size), order='F').swapaxes(2, 1))\n",
    "        labels.extend(x[b'labels'])\n",
    "    data = np.concatenate(data)\n",
    "    assert(len(labels)==len(data))\n",
    "    return data, labels\n",
    "def save_images(x, fname):\n",
    "    s = x.shape\n",
    "    x = np.concatenate([v.reshape(-1, s[-2], s[-1]) for v in np.split(x, 8, axis=0)], axis=1)\n",
    "    x = 255*(0.5*x + 0.5)\n",
    "    x = x.astype(np.uint8)\n",
    "    plt.imsave(fname, x)"
   ]
  },
  {
   "cell_type": "code",
   "execution_count": null,
   "metadata": {},
   "outputs": [],
   "source": [
    "import glob\n",
    "import pickle\n",
    "from matplotlib import pyplot as plt\n",
    "import numpy as np\n",
    "import skimage\n",
    "d, _ = load_data(d_path, [32, 32, 3])\n",
    "d_1 = np.split(d[:64], 8, axis=0)\n",
    "d_1 = np.concatenate([v.reshape(-1, 32, 3) for v in np.split(d[:64], 8, axis=0)], axis=1)\n",
    "print(d_1.shape)\n",
    "# d_1 = np.concatenate(d_1, axis=1)\n",
    "\n",
    "print(type(d_1))\n",
    "plt.imsave('test1.png', d_1)\n",
    "# save_images(d_1, 'test.png')"
   ]
  },
  {
   "cell_type": "code",
   "execution_count": null,
   "metadata": {},
   "outputs": [],
   "source": []
  }
 ],
 "metadata": {
  "kernelspec": {
   "display_name": "Python 3",
   "language": "python",
   "name": "python3"
  },
  "language_info": {
   "codemirror_mode": {
    "name": "ipython",
    "version": 3
   },
   "file_extension": ".py",
   "mimetype": "text/x-python",
   "name": "python",
   "nbconvert_exporter": "python",
   "pygments_lexer": "ipython3",
   "version": "3.5.5"
  }
 },
 "nbformat": 4,
 "nbformat_minor": 2
}
