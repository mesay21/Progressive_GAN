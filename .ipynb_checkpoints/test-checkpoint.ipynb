{
 "cells": [
  {
   "cell_type": "code",
   "execution_count": 1,
   "metadata": {},
   "outputs": [],
   "source": [
    "from pgan_v2 import PGAN\n",
    "import tensorflow as tf"
   ]
  },
  {
   "cell_type": "code",
   "execution_count": 2,
   "metadata": {},
   "outputs": [],
   "source": [
    "z = tf.placeholder(tf.float32, shape=(None, 256))\n",
    "alpha = tf.placeholder(tf.float32, shape=())"
   ]
  },
  {
   "cell_type": "code",
   "execution_count": 3,
   "metadata": {
    "collapsed": true
   },
   "outputs": [],
   "source": [
    "d_path = '../../../Dataset/cifar-10-batches-py/data*'\n",
    "save_path = '../../results/20190405/Experiment_001/'"
   ]
  },
  {
   "cell_type": "code",
   "execution_count": 4,
   "metadata": {},
   "outputs": [
    {
     "name": "stdout",
     "output_type": "stream",
     "text": [
      "layer:  1 (?, 4, 4, 3)\n",
      "<tf.Variable 'generator/g_layer_0_fc/weights:0' shape=(256, 8192) dtype=float32_ref>\n",
      "<tf.Variable 'generator/g_layer_0_fc/biases:0' shape=(8192,) dtype=float32_ref>\n",
      "<tf.Variable 'generator/g_layer_0_conv/weights:0' shape=(3, 3, 512, 512) dtype=float32_ref>\n",
      "<tf.Variable 'generator/g_layer_0_conv/biases:0' shape=(512,) dtype=float32_ref>\n",
      "<tf.Variable 'generator/g_output/weights:0' shape=(1, 1, 512, 3) dtype=float32_ref>\n",
      "<tf.Variable 'generator/g_output/biases:0' shape=(3,) dtype=float32_ref>\n",
      "INFO:tensorflow:Restoring parameters from ../../results/20190405/Experiment_001/checkpoint/1_layers/partial\n",
      "(?, 4, 4, 512)\n",
      "layer:  2 (?, 8, 8, 3)\n",
      "<tf.Variable 'generator/g_layer_0_fc/weights:0' shape=(256, 8192) dtype=float32_ref>\n",
      "<tf.Variable 'generator/g_layer_0_fc/biases:0' shape=(8192,) dtype=float32_ref>\n",
      "<tf.Variable 'generator/g_layer_0_conv/weights:0' shape=(3, 3, 512, 512) dtype=float32_ref>\n",
      "<tf.Variable 'generator/g_layer_0_conv/biases:0' shape=(512,) dtype=float32_ref>\n",
      "<tf.Variable 'generator/g_output/weights:0' shape=(1, 1, 512, 3) dtype=float32_ref>\n",
      "<tf.Variable 'generator/g_output/biases:0' shape=(3,) dtype=float32_ref>\n",
      "<tf.Variable 'generator/g_layer_2_conv_1/weights:0' shape=(3, 3, 512, 256) dtype=float32_ref>\n",
      "<tf.Variable 'generator/g_layer_2_conv_1/biases:0' shape=(256,) dtype=float32_ref>\n",
      "<tf.Variable 'generator/g_layer_2_conv_2/weights:0' shape=(3, 3, 256, 128) dtype=float32_ref>\n",
      "<tf.Variable 'generator/g_layer_2_conv_2/biases:0' shape=(128,) dtype=float32_ref>\n",
      "<tf.Variable 'generator/g_outputcurr/weights:0' shape=(1, 1, 128, 3) dtype=float32_ref>\n",
      "<tf.Variable 'generator/g_outputcurr/biases:0' shape=(3,) dtype=float32_ref>\n",
      "<tf.Variable 'generator/g_outputprev/weights:0' shape=(1, 1, 512, 3) dtype=float32_ref>\n",
      "<tf.Variable 'generator/g_outputprev/biases:0' shape=(3,) dtype=float32_ref>\n",
      "INFO:tensorflow:Restoring parameters from ../../results/20190405/Experiment_001/checkpoint/2_layers/partial\n",
      "(?, 8, 8, 128)\n",
      "layer:  3 (?, 16, 16, 3)\n",
      "<tf.Variable 'generator/g_layer_0_fc/weights:0' shape=(256, 8192) dtype=float32_ref>\n",
      "<tf.Variable 'generator/g_layer_0_fc/biases:0' shape=(8192,) dtype=float32_ref>\n",
      "<tf.Variable 'generator/g_layer_0_conv/weights:0' shape=(3, 3, 512, 512) dtype=float32_ref>\n",
      "<tf.Variable 'generator/g_layer_0_conv/biases:0' shape=(512,) dtype=float32_ref>\n",
      "<tf.Variable 'generator/g_output/weights:0' shape=(1, 1, 512, 3) dtype=float32_ref>\n",
      "<tf.Variable 'generator/g_output/biases:0' shape=(3,) dtype=float32_ref>\n",
      "<tf.Variable 'generator/g_layer_2_conv_1/weights:0' shape=(3, 3, 512, 256) dtype=float32_ref>\n",
      "<tf.Variable 'generator/g_layer_2_conv_1/biases:0' shape=(256,) dtype=float32_ref>\n",
      "<tf.Variable 'generator/g_layer_2_conv_2/weights:0' shape=(3, 3, 256, 128) dtype=float32_ref>\n",
      "<tf.Variable 'generator/g_layer_2_conv_2/biases:0' shape=(128,) dtype=float32_ref>\n",
      "<tf.Variable 'generator/g_outputcurr/weights:0' shape=(1, 1, 128, 3) dtype=float32_ref>\n",
      "<tf.Variable 'generator/g_outputcurr/biases:0' shape=(3,) dtype=float32_ref>\n",
      "<tf.Variable 'generator/g_outputprev/weights:0' shape=(1, 1, 512, 3) dtype=float32_ref>\n",
      "<tf.Variable 'generator/g_outputprev/biases:0' shape=(3,) dtype=float32_ref>\n",
      "<tf.Variable 'generator/g_layer_3_conv_1/weights:0' shape=(3, 3, 128, 128) dtype=float32_ref>\n",
      "<tf.Variable 'generator/g_layer_3_conv_1/biases:0' shape=(128,) dtype=float32_ref>\n",
      "<tf.Variable 'generator/g_layer_3_conv_2/weights:0' shape=(3, 3, 128, 64) dtype=float32_ref>\n",
      "<tf.Variable 'generator/g_layer_3_conv_2/biases:0' shape=(64,) dtype=float32_ref>\n",
      "<tf.Variable 'generator/g_outputcurr/weights_1:0' shape=(1, 1, 64, 3) dtype=float32_ref>\n",
      "<tf.Variable 'generator/g_outputcurr/biases_1:0' shape=(3,) dtype=float32_ref>\n",
      "<tf.Variable 'generator/g_outputprev/weights_1:0' shape=(1, 1, 128, 3) dtype=float32_ref>\n",
      "<tf.Variable 'generator/g_outputprev/biases_1:0' shape=(3,) dtype=float32_ref>\n",
      "INFO:tensorflow:Restoring parameters from ../../results/20190405/Experiment_001/checkpoint/3_layers/partial\n",
      "(?, 16, 16, 64)\n",
      "layer:  4 (?, 32, 32, 3)\n",
      "<tf.Variable 'generator/g_layer_0_fc/weights:0' shape=(256, 8192) dtype=float32_ref>\n",
      "<tf.Variable 'generator/g_layer_0_fc/biases:0' shape=(8192,) dtype=float32_ref>\n",
      "<tf.Variable 'generator/g_layer_0_conv/weights:0' shape=(3, 3, 512, 512) dtype=float32_ref>\n",
      "<tf.Variable 'generator/g_layer_0_conv/biases:0' shape=(512,) dtype=float32_ref>\n",
      "<tf.Variable 'generator/g_output/weights:0' shape=(1, 1, 512, 3) dtype=float32_ref>\n",
      "<tf.Variable 'generator/g_output/biases:0' shape=(3,) dtype=float32_ref>\n",
      "<tf.Variable 'generator/g_layer_2_conv_1/weights:0' shape=(3, 3, 512, 256) dtype=float32_ref>\n",
      "<tf.Variable 'generator/g_layer_2_conv_1/biases:0' shape=(256,) dtype=float32_ref>\n",
      "<tf.Variable 'generator/g_layer_2_conv_2/weights:0' shape=(3, 3, 256, 128) dtype=float32_ref>\n",
      "<tf.Variable 'generator/g_layer_2_conv_2/biases:0' shape=(128,) dtype=float32_ref>\n",
      "<tf.Variable 'generator/g_outputcurr/weights:0' shape=(1, 1, 128, 3) dtype=float32_ref>\n",
      "<tf.Variable 'generator/g_outputcurr/biases:0' shape=(3,) dtype=float32_ref>\n",
      "<tf.Variable 'generator/g_outputprev/weights:0' shape=(1, 1, 512, 3) dtype=float32_ref>\n",
      "<tf.Variable 'generator/g_outputprev/biases:0' shape=(3,) dtype=float32_ref>\n",
      "<tf.Variable 'generator/g_layer_3_conv_1/weights:0' shape=(3, 3, 128, 128) dtype=float32_ref>\n",
      "<tf.Variable 'generator/g_layer_3_conv_1/biases:0' shape=(128,) dtype=float32_ref>\n",
      "<tf.Variable 'generator/g_layer_3_conv_2/weights:0' shape=(3, 3, 128, 64) dtype=float32_ref>\n",
      "<tf.Variable 'generator/g_layer_3_conv_2/biases:0' shape=(64,) dtype=float32_ref>\n",
      "<tf.Variable 'generator/g_outputcurr/weights_1:0' shape=(1, 1, 64, 3) dtype=float32_ref>\n",
      "<tf.Variable 'generator/g_outputcurr/biases_1:0' shape=(3,) dtype=float32_ref>\n",
      "<tf.Variable 'generator/g_outputprev/weights_1:0' shape=(1, 1, 128, 3) dtype=float32_ref>\n",
      "<tf.Variable 'generator/g_outputprev/biases_1:0' shape=(3,) dtype=float32_ref>\n",
      "<tf.Variable 'generator/g_layer_4_conv_1/weights:0' shape=(3, 3, 64, 64) dtype=float32_ref>\n",
      "<tf.Variable 'generator/g_layer_4_conv_1/biases:0' shape=(64,) dtype=float32_ref>\n",
      "<tf.Variable 'generator/g_layer_4_conv_2/weights:0' shape=(3, 3, 64, 32) dtype=float32_ref>\n",
      "<tf.Variable 'generator/g_layer_4_conv_2/biases:0' shape=(32,) dtype=float32_ref>\n",
      "<tf.Variable 'generator/g_outputcurr/weights_2:0' shape=(1, 1, 32, 3) dtype=float32_ref>\n",
      "<tf.Variable 'generator/g_outputcurr/biases_2:0' shape=(3,) dtype=float32_ref>\n",
      "<tf.Variable 'generator/g_outputprev/weights_2:0' shape=(1, 1, 64, 3) dtype=float32_ref>\n",
      "<tf.Variable 'generator/g_outputprev/biases_2:0' shape=(3,) dtype=float32_ref>\n",
      "to be done\n"
     ]
    }
   ],
   "source": [
    "gan = PGAN(d_path, save_path)\n",
    "gan.train([512, 256, 128, 64])\n",
    "# pgan.generator(z, alpha)"
   ]
  },
  {
   "cell_type": "code",
   "execution_count": null,
   "metadata": {
    "collapsed": true
   },
   "outputs": [],
   "source": []
  },
  {
   "cell_type": "code",
   "execution_count": null,
   "metadata": {
    "collapsed": true
   },
   "outputs": [],
   "source": [
    "def load_data(path, im_size):\n",
    "    f_names = glob.glob(path)\n",
    "    data, labels = [], []\n",
    "    for l in f_names:\n",
    "        with open(l, 'rb') as f:\n",
    "            x = pickle.load(f, encoding='bytes')\n",
    "        data.append(x[b'data'].reshape((-1, *im_size), order='F').swapaxes(2, 1))\n",
    "        labels.extend(x[b'labels'])\n",
    "    data = np.concatenate(data)\n",
    "    assert(len(labels)==len(data))\n",
    "    return data, labels\n",
    "def save_images(x, fname):\n",
    "    s = x.shape\n",
    "    x = np.concatenate([v.reshape(-1, s[-2], s[-1]) for v in np.split(x, 8, axis=0)], axis=1)\n",
    "    x = 255*(0.5*x + 0.5)\n",
    "    x = x.astype(np.uint8)\n",
    "    plt.imsave(fname, x)"
   ]
  },
  {
   "cell_type": "code",
   "execution_count": null,
   "metadata": {
    "collapsed": true
   },
   "outputs": [],
   "source": [
    "import glob\n",
    "import pickle\n",
    "from matplotlib import pyplot as plt\n",
    "import numpy as np\n",
    "import skimage\n",
    "d, _ = load_data(d_path, [32, 32, 3])\n",
    "d_1 = np.split(d[:64], 8, axis=0)\n",
    "d_1 = np.concatenate([v.reshape(-1, 32, 3) for v in np.split(d[:64], 8, axis=0)], axis=1)\n",
    "print(d_1.shape)\n",
    "# d_1 = np.concatenate(d_1, axis=1)\n",
    "\n",
    "print(type(d_1))\n",
    "plt.imsave('test1.png', d_1)\n",
    "# save_images(d_1, 'test.png')"
   ]
  },
  {
   "cell_type": "code",
   "execution_count": null,
   "metadata": {
    "collapsed": true
   },
   "outputs": [],
   "source": []
  }
 ],
 "metadata": {
  "kernelspec": {
   "display_name": "Python 3",
   "language": "python",
   "name": "python3"
  },
  "language_info": {
   "codemirror_mode": {
    "name": "ipython",
    "version": 3
   },
   "file_extension": ".py",
   "mimetype": "text/x-python",
   "name": "python",
   "nbconvert_exporter": "python",
   "pygments_lexer": "ipython3",
   "version": "3.5.4"
  }
 },
 "nbformat": 4,
 "nbformat_minor": 2
}
